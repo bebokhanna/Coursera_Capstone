## Notebook created for the Week 1 peer graded assignment

import pandas as pd
import numpy as np

print("Hello Capstone Project Course!")
