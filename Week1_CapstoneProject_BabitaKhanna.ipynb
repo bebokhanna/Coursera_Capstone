{
    "cells": [
        {
            "cell_type": "markdown",
            "metadata": {
                "collapsed": true
            },
            "source": "### Peer-graded Assignment (Part 1) - Babita Khanna\n# Impact of Toronto neighborhood on its housing rentals\n### Capstone Project - The Battle of Neighborhoods"
        },
        {
            "cell_type": "markdown",
            "metadata": {},
            "source": " "
        },
        {
            "cell_type": "markdown",
            "metadata": {},
            "source": "### 1. Introduction\n\n#### 1.1. Introduction to the Background\n\n\nToronto is the capital city of the Canadian province of Ontario and the largest city in Canada. With a recorded population of 6,341,935 in the Toronto region as reported by Toronto City Hall, it is the most populous city in Canada and the fourth most populous city in North America.\n\nToronto covers an area of 630 square kilometres (243 sq mi), with a maximum north\u2013south distance of 21 kilometres (13 mi). The strength and vitality of the many neighbourhoods that make up Toronto, Ontario, Canada has earned the city its unofficial nickname of \"the city of neighbourhoods\". There are over 140 neighbourhoods officially recognized by the City of Toronto and upwards of 240 official and unofficial neighbourhoods within city limits.\n\n\n#### 1.2. Business Problem Description \n\nGiven its population census with the neighborhood variation, there is a huge demand of exploring different locations in Toronto city and its neighborhood by various stakeholders.\n\nFor an investor to launch their business, open up a restaurant or a coffee shop, there requires intense research and analysis to search for places with least competition and untapped opportunities for specific product demands or cuisines. Also, for people looking to reside in this popular city, they want to look into areas with specific neighborhood types such as parks & playgrounds for children, with least real estate values as well as specific criteria such as least dense population etc. as per their social preference. \n\nConsidering to resolve such requirements at hand, the idea is to look into how we can use rental housing rates along with foursquare location data as well as the power of data science analytics to answer these questions proactively resolving the demand called out by the highlighted target audience."
        },
        {
            "cell_type": "markdown",
            "metadata": {},
            "source": " \n"
        },
        {
            "cell_type": "markdown",
            "metadata": {},
            "source": "### 2. Data\n\nIn order to resolve the business problem described, I have explored and used the below data sources:\n\n<ol>\n    <li> <b>Canadian Postal codes</b> was an excellent wiki site to retrive Toronto Neighborhood details. </li>\n    <li> Comma Seperated Value file with <b>Geospatial Coordinates of all Toronto Neighborhood</b> to tag the neighborhood data with its location  - latitude and longitude information. </li>\n    <li> Public information on Toronto renting index is not readily available. Hence, using the Housing Market Information Portal available on <b>Canada Mortgage and Housing Corporation</b>, I was able to gather rental property rates for each kind of accomodation for the past few years. Computing the average and relevant information, I have combined all the data sources of Canadian postal codes as well as the geospatial coordinates and represent the average housing range on the recorded properties. Examples of few comlumns from the online data are: Neighbood Location, Rents for Bachelor, 1 Bedroom, 2 Bedroom and 3+ Bedrooms.</li>\n    <li> <b>Foursquare API</b> was used to extract the nearby venues for all combined neighborhood data. </li>\n</ol>\n    \nUsing these data sources, I have used to my best current ability to explore, analyze and resolve the business problem at hand. The following methodology section is a walk through of how the data described was investigated, used to create visulization maps, information charts and tables and plotted the rental data information on the map with its rate by clustering based on venue density. \n"
        },
        {
            "cell_type": "markdown",
            "metadata": {},
            "source": " "
        },
        {
            "cell_type": "markdown",
            "metadata": {},
            "source": "   "
        }
    ],
    "metadata": {
        "kernelspec": {
            "display_name": "Python 3.7",
            "language": "python",
            "name": "python3"
        },
        "language_info": {
            "codemirror_mode": {
                "name": "ipython",
                "version": 3
            },
            "file_extension": ".py",
            "mimetype": "text/x-python",
            "name": "python",
            "nbconvert_exporter": "python",
            "pygments_lexer": "ipython3",
            "version": "3.7.10"
        }
    },
    "nbformat": 4,
    "nbformat_minor": 1
}